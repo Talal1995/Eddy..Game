{
 "cells": [
  {
   "cell_type": "markdown",
   "metadata": {},
   "source": [
    "In this notebook we import all the different csv files stored for the expressive range test, create the respective folders and create all the plots related to eac pair of dimensions, and we plot leniency/linearity."
   ]
  },
  {
   "cell_type": "code",
   "execution_count": 1,
   "metadata": {},
   "outputs": [],
   "source": [
    "import numpy as np; np.random.seed(0)\n",
    "import matplotlib.pyplot as plt\n",
    "import seaborn as sns; sns.set()\n",
    "import pandas as pd\n",
    "import os as os\n",
    "from numpy import genfromtxt\n",
    "from os import listdir"
   ]
  },
  {
   "cell_type": "markdown",
   "metadata": {},
   "source": [
    "Read all the CSV that exist in the specified folder... Create all the folders for each csv"
   ]
  },
  {
   "cell_type": "code",
   "execution_count": 2,
   "metadata": {},
   "outputs": [],
   "source": [
    "# filenames = listdir('../../../../my-data/expressive-range/')\n",
    "filenames = listdir('../../../../my-data/Basic-room/')\n",
    "csvFiles = [ filename for filename in filenames if filename.endswith( \".csv\" ) ]"
   ]
  },
  {
   "cell_type": "code",
   "execution_count": 3,
   "metadata": {},
   "outputs": [],
   "source": [
    "for file in csvFiles:\n",
    "    dirName = file.split(\".\")[0]\n",
    "    os.makedirs('../../../../my-data/expressive-range-2/' + dirName + \"/BIG_GRID\")  \n",
    "    os.makedirs('../../../../my-data/expressive-range-2/' + dirName + \"/MED_GRID\")  \n",
    "    os.makedirs('../../../../my-data/expressive-range-2/' + dirName + \"/SMALL_GRID\")  \n",
    "    os.makedirs('../../../../my-data/expressive-range-2/' + dirName + \"/Fitness_HUE\")  \n",
    "    os.makedirs('../../../../my-data/expressive-range-2/' + dirName + \"/pair_plot\")  \n",
    "    os.makedirs('../../../../my-data/expressive-range-2/' + dirName + \"/basic_plot\")  \n",
    "    os.makedirs('../../../../my-data/expressive-range-2/' + dirName + \"/basic_plot_numbers\") "
   ]
  },
  {
   "cell_type": "code",
   "execution_count": 4,
   "metadata": {},
   "outputs": [],
   "source": [
    "os.makedirs('../../../../my-data/expressive-range-2/BIG_GRID')  \n",
    "os.makedirs('../../../../my-data/expressive-range-2/MED_GRID')  \n",
    "os.makedirs('../../../../my-data/expressive-range-2/SMALL_GRID')  \n",
    "os.makedirs('../../../../my-data/expressive-range-2/Fitness_HUE')  \n",
    "os.makedirs('../../../../my-data/expressive-range-2/pair_plot')  \n",
    "os.makedirs('../../../../my-data/expressive-range-2/basic_plot')  \n",
    "os.makedirs('../../../../my-data/expressive-range-2/basic_plot_numbers') "
   ]
  },
  {
   "cell_type": "code",
   "execution_count": 7,
   "metadata": {},
   "outputs": [],
   "source": [
    "def getDimensionName(rawDim):\n",
    "    switcher = {\n",
    "        \"LENIENCY\":\"Leniency\",\n",
    "        \"INNER_SIMILARITY\":\"Inner Similarity\",\n",
    "        \"SYMMETRY\":\"Symmetry\",\n",
    "        \"SIMILARITY\":\"Similarity\",\n",
    "        \"LINEARITY\":\"Linearity\",\n",
    "        \"NUMBER_MESO_PATTERN\":\"NMesoPatterns\",\n",
    "        \"NUMBER_PATTERNS\":\"NSpatialPatterns\"\n",
    "    }\n",
    "    return switcher.get(rawDim)"
   ]
  },
  {
   "cell_type": "code",
   "execution_count": 8,
   "metadata": {},
   "outputs": [],
   "source": [
    "def getFolderName(rawDim):\n",
    "    switcher = {\n",
    "        \"Leniency\":\"len\",\n",
    "        \"Inner Similarity\":\"is\",\n",
    "        \"Symmetry\":\"sym\",\n",
    "        \"Similarity\":\"sim\",\n",
    "        \"Linearity\":\"lin\",\n",
    "        \"NMesoPatterns\":\"mesoPat\",\n",
    "        \"NSpatialPatterns\":\"spaPat\",\n",
    "        \"Fitness\":\"fit\"\n",
    "    }\n",
    "    return switcher.get(rawDim)"
   ]
  },
  {
   "cell_type": "markdown",
   "metadata": {},
   "source": [
    "Creates a heatmap plot with hexagons (Big grid, small hex!)"
   ]
  },
  {
   "cell_type": "code",
   "execution_count": null,
   "metadata": {},
   "outputs": [],
   "source": [
    "for file in csvFiles:\n",
    "    sns.set(style=\"ticks\")\n",
    "    dirName = file.split(\".\")[0]\n",
    "    #read the csv, remove every row that have a missing value (i.e. NaN) and round the floats\n",
    "    num_data = pd.read_csv('../../../../my-data/Basic-room/' + file, sep=';')\n",
    "    num_data = num_data[pd.notnull(num_data['Leniency'])]\n",
    "    num_data = num_data.round(2)\n",
    "    x_var = getDimensionName(num_data['DIM X'][0])\n",
    "    y_var = getDimensionName(num_data['DIM Y'][0])\n",
    "\n",
    "    #BIG GRID\n",
    "\n",
    "    joint_kws=dict(gridsize=20)\n",
    "    expresive_range_plot = sns.jointplot(data=num_data, x=\"Linearity\", y=\"Leniency\", kind=\"hex\",cmap=\"gray\", size=10, joint_kws= joint_kws)\n",
    "\n",
    "    #FOR THE COLOR BAR TO THE RIGHT\n",
    "\n",
    "    plt.subplots_adjust(left=0.2, right=0.8, top=0.8, bottom=0.2)  # shrink fig so cbar is visible\n",
    "    cbar_ax = expresive_range_plot.fig.add_axes([.85, .25, .05, .4])  # x, y, width, height\n",
    "    plt.colorbar(cax=cbar_ax)\n",
    "    # expresive_range_plot.ax_marg_x.set_xlim(0.0, 1.0)\n",
    "    # expresive_range_plot.ax_marg_y.set_ylim(0.0, 1.0)\n",
    "    expresive_range_plot.ax_marg_x.set_xticks([0.0, 0.1, 0.2, 0.3, 0.4, 0.5, 0.6, 0.7, 0.8, 0.9, 1.0])\n",
    "    expresive_range_plot.ax_marg_y.set_yticks([0.0, 0.1, 0.2, 0.3, 0.4, 0.5, 0.6, 0.7, 0.8, 0.9, 1.0])\n",
    "    # expresive_range_plot.ax_joint.legend_.remove()\n",
    "    \n",
    "#     expresive_range_plot.savefig('../../../../my-data/expressive-range-2/' + dirName + \"/BIG_GRID/output.png\")\n",
    "    expresive_range_plot.savefig('../../../../my-data/expressive-range-2/BIG_GRID/' + x_var + \"_\" + y_var + \"_\" + dirName + '.png')\n",
    "    expresive_range.close()"
   ]
  },
  {
   "cell_type": "markdown",
   "metadata": {},
   "source": [
    "Creates a heatmap plot with hexagons (medium grid, medium hex!)"
   ]
  },
  {
   "cell_type": "code",
   "execution_count": null,
   "metadata": {},
   "outputs": [],
   "source": [
    "for file in csvFiles:\n",
    "    sns.set(style=\"ticks\")\n",
    "    dirName = file.split(\".\")[0]\n",
    "    #read the csv, remove every row that have a missing value (i.e. NaN) and round the floats\n",
    "    num_data = pd.read_csv('../../../../my-data/expressive-range/' + file, sep=';')\n",
    "    num_data = num_data[pd.notnull(num_data['Leniency'])]\n",
    "    num_data = num_data.round(2)\n",
    "\n",
    "    #Medium GRID\n",
    "\n",
    "    joint_kws=dict(gridsize=15)\n",
    "    expresive_range_plot = sns.jointplot(data=num_data, x=\"Linearity\", y=\"Leniency\", kind=\"hex\",cmap=\"gray\", size=10, joint_kws= joint_kws)\n",
    "\n",
    "    #FOR THE COLOR BAR TO THE RIGHT\n",
    "\n",
    "    plt.subplots_adjust(left=0.2, right=0.8, top=0.8, bottom=0.2)  # shrink fig so cbar is visible\n",
    "    cbar_ax = expresive_range_plot.fig.add_axes([.85, .25, .05, .4])  # x, y, width, height\n",
    "    plt.colorbar(cax=cbar_ax)\n",
    "    # expresive_range_plot.ax_marg_x.set_xlim(0.0, 1.0)\n",
    "    # expresive_range_plot.ax_marg_y.set_ylim(0.0, 1.0)\n",
    "    expresive_range_plot.ax_marg_x.set_xticks([0.0, 0.1, 0.2, 0.3, 0.4, 0.5, 0.6, 0.7, 0.8, 0.9, 1.0])\n",
    "    expresive_range_plot.ax_marg_y.set_yticks([0.0, 0.1, 0.2, 0.3, 0.4, 0.5, 0.6, 0.7, 0.8, 0.9, 1.0])\n",
    "    # expresive_range_plot.ax_joint.legend_.remove()\n",
    "    \n",
    "    expresive_range_plot.savefig('../../../../my-data/expressive-range/' + dirName + \"/MED_GRID/output.png\")\n",
    "    expresive_range_plot.savefig('../../../../my-data/expressive-range/MED_GRID/' + dirName + '.png')"
   ]
  },
  {
   "cell_type": "markdown",
   "metadata": {},
   "source": [
    "Creates a heatmap plot with hexagons (Small grid, Big hex!)"
   ]
  },
  {
   "cell_type": "code",
   "execution_count": null,
   "metadata": {},
   "outputs": [],
   "source": [
    "for file in csvFiles:\n",
    "    sns.set(style=\"ticks\")\n",
    "    dirName = file.split(\".\")[0]\n",
    "    #read the csv, remove every row that have a missing value (i.e. NaN) and round the floats\n",
    "    num_data = pd.read_csv('../../../../my-data/expressive-range/' + file, sep=';')\n",
    "    num_data = num_data[pd.notnull(num_data['Leniency'])]\n",
    "    num_data = num_data.round(2)\n",
    "\n",
    "    #Small GRID\n",
    "\n",
    "    joint_kws=dict(gridsize=10)\n",
    "    expresive_range_plot = sns.jointplot(data=num_data, x=\"Linearity\", y=\"Leniency\", kind=\"hex\",cmap=\"gray\", size=10, joint_kws= joint_kws)\n",
    "\n",
    "    #FOR THE COLOR BAR TO THE RIGHT\n",
    "\n",
    "    plt.subplots_adjust(left=0.2, right=0.8, top=0.8, bottom=0.2)  # shrink fig so cbar is visible\n",
    "    cbar_ax = expresive_range_plot.fig.add_axes([.85, .25, .05, .4])  # x, y, width, height\n",
    "    plt.colorbar(cax=cbar_ax)\n",
    "    # expresive_range_plot.ax_marg_x.set_xlim(0.0, 1.0)\n",
    "    # expresive_range_plot.ax_marg_y.set_ylim(0.0, 1.0)\n",
    "    expresive_range_plot.ax_marg_x.set_xticks([0.0, 0.1, 0.2, 0.3, 0.4, 0.5, 0.6, 0.7, 0.8, 0.9, 1.0])\n",
    "    expresive_range_plot.ax_marg_y.set_yticks([0.0, 0.1, 0.2, 0.3, 0.4, 0.5, 0.6, 0.7, 0.8, 0.9, 1.0])\n",
    "    # expresive_range_plot.ax_joint.legend_.remove()\n",
    "    \n",
    "    expresive_range_plot.savefig('../../../../my-data/expressive-range/' + dirName + \"/SMALL_GRID/output.png\")\n",
    "    expresive_range_plot.savefig('../../../../my-data/expressive-range/SMALL_GRID/' + dirName + '.png')"
   ]
  },
  {
   "cell_type": "markdown",
   "metadata": {},
   "source": [
    "Scatter plot with the HUE of the scatter points as the fitness"
   ]
  },
  {
   "cell_type": "code",
   "execution_count": null,
   "metadata": {},
   "outputs": [],
   "source": [
    "for file in csvFiles:\n",
    "    sns.set()\n",
    "    dirName = file.split(\".\")[0]\n",
    "    #read the csv, remove every row that have a missing value (i.e. NaN) and round the floats\n",
    "    num_data = pd.read_csv('../../../../my-data/expressive-range/' + file, sep=';')\n",
    "    num_data = num_data[pd.notnull(num_data['Leniency'])]\n",
    "    num_data = num_data.round(2)\n",
    "    \n",
    "    plt.figure(figsize=(16, 16))\n",
    "    #FOR THE COLOR BAR TO THE RIGHT\n",
    "    joint_kws=dict(gridsize=15)\n",
    "    expresive_range_plot = sns.scatterplot(x=\"Linearity\", y=\"Leniency\", hue=\"Fitness\",palette=\"Set2\", data=num_data, s=80)\n",
    "    \n",
    "#     figure.savefig('../../../../my-data/expressive-range/' + dirName + \"/Fitness_HUE/output.png\")\n",
    "#     figure.savefig('../../../../my-data/expressive-range/Fitness_HUE/' + dirName + '.png')"
   ]
  },
  {
   "cell_type": "markdown",
   "metadata": {},
   "source": [
    "Pairplot comparison of all the recorded variables"
   ]
  },
  {
   "cell_type": "code",
   "execution_count": null,
   "metadata": {},
   "outputs": [],
   "source": [
    "for file in csvFiles:\n",
    "    sns.set()\n",
    "    dirName = file.split(\".\")[0]\n",
    "    #read the csv, remove every row that have a missing value (i.e. NaN) and round the floats\n",
    "    num_data = pd.read_csv('../../../../my-data/expressive-range/' + file, sep=';')\n",
    "    num_data = num_data[pd.notnull(num_data['Leniency'])]\n",
    "    num_data = num_data.round(2)\n",
    "    num_data = num_data.drop(columns=['Score'])\n",
    "    \n",
    "    plt.figure(figsize=(30, 30))\n",
    "    expresive_range_plot = sns.pairplot(num_data)\n",
    "    \n",
    "    expresive_range_plot.savefig('../../../../my-data/expressive-range/' + dirName + \"/pair_plot/output.png\")\n",
    "    expresive_range_plot.savefig('../../../../my-data/expressive-range/pair_plot/' + dirName + '.png')"
   ]
  },
  {
   "cell_type": "markdown",
   "metadata": {},
   "source": [
    "Classic heatmap on gray"
   ]
  },
  {
   "cell_type": "code",
   "execution_count": null,
   "metadata": {},
   "outputs": [],
   "source": [
    "for file in csvFiles:\n",
    "    sns.set()\n",
    "    dirName = file.split(\".\")[0]\n",
    "    #read the csv, remove every row that have a missing value (i.e. NaN) and round the floats\n",
    "    num_data = pd.read_csv('../../../../my-data/expressive-range/' + file, sep=';')\n",
    "    num_data = num_data[pd.notnull(num_data['Leniency'])]\n",
    "    num_data = num_data.round(2)\n",
    "    \n",
    "    num_data_extra = num_data.reset_index().pivot_table(values='Score', index=['Leniency'], columns='Linearity', aggfunc=np.sum)\n",
    "    num_data_extra.sort_index(level=0, ascending=False, inplace=True)\n",
    "    plt.figure(figsize=(16, 16))\n",
    "    #cmap=\"RdBu_r\"\n",
    "    expresive_range_plot = sns.heatmap(num_data_extra, yticklabels=8, xticklabels=8,linewidths=0, cmap=\"gray\", cbar_kws={'label': 'Rooms'})\n",
    "    expresive_range_plot.set_facecolor('xkcd:black')\n",
    "    \n",
    "    figure = expresive_range_plot.get_figure()   \n",
    "    \n",
    "    figure.savefig('../../../../my-data/expressive-range/' + dirName + \"/basic_plot/output_gray.png\")\n",
    "    figure.savefig('../../../../my-data/expressive-range/basic_plot/' + dirName + '_gray.png')"
   ]
  },
  {
   "cell_type": "markdown",
   "metadata": {},
   "source": [
    "Classic heatmap on color"
   ]
  },
  {
   "cell_type": "code",
   "execution_count": null,
   "metadata": {},
   "outputs": [],
   "source": [
    "for file in csvFiles:\n",
    "    sns.set()\n",
    "    dirName = file.split(\".\")[0]\n",
    "    #read the csv, remove every row that have a missing value (i.e. NaN) and round the floats\n",
    "    num_data = pd.read_csv('../../../../my-data/expressive-range/' + file, sep=';')\n",
    "    num_data = num_data[pd.notnull(num_data['Leniency'])]\n",
    "    num_data = num_data.round(2)\n",
    "    \n",
    "    num_data_extra = num_data.reset_index().pivot_table(values='Score', index=['Leniency'], columns='Linearity', aggfunc=np.sum)\n",
    "    num_data_extra.sort_index(level=0, ascending=False, inplace=True)\n",
    "    plt.figure(figsize=(16, 16))\n",
    "    #cmap=\"RdBu_r\"\n",
    "    expresive_range_plot = sns.heatmap(num_data_extra, yticklabels=8, xticklabels=8,linewidths=0, cbar_kws={'label': 'Rooms'})\n",
    "    expresive_range_plot.set_facecolor('xkcd:black')\n",
    "    \n",
    "    figure = expresive_range_plot.get_figure()   \n",
    "    \n",
    "    figure.savefig('../../../../my-data/expressive-range/' + dirName + \"/basic_plot/output_color.png\")\n",
    "    figure.savefig('../../../../my-data/expressive-range/basic_plot/' + dirName + '_color.png')"
   ]
  },
  {
   "cell_type": "markdown",
   "metadata": {},
   "source": [
    "Classic heatmap on gray with annotation of the amount of rooms per square"
   ]
  },
  {
   "cell_type": "code",
   "execution_count": null,
   "metadata": {},
   "outputs": [],
   "source": [
    "for file in csvFiles:\n",
    "    sns.set()\n",
    "    dirName = file.split(\".\")[0]\n",
    "    #read the csv, remove every row that have a missing value (i.e. NaN) and round the floats\n",
    "    num_data = pd.read_csv('../../../../my-data/expressive-range/' + file, sep=';')\n",
    "    num_data = num_data[pd.notnull(num_data['Leniency'])]\n",
    "    num_data = num_data.round(2)\n",
    "    \n",
    "    num_data_extra = num_data.reset_index().pivot_table(values='Score', index=['Leniency'], columns='Linearity', aggfunc=np.sum)\n",
    "    num_data_extra.sort_index(level=0, ascending=False, inplace=True)\n",
    "    plt.figure(figsize=(30, 30))\n",
    "    #cmap=\"RdBu_r\"\n",
    "    expresive_range_plot = sns.heatmap(num_data_extra, annot=True, yticklabels=8, xticklabels=8,linewidths=0, cmap=\"gray\", cbar_kws={'label': 'Rooms'})\n",
    "    expresive_range_plot.set_facecolor('xkcd:black')\n",
    "    \n",
    "    figure = expresive_range_plot.get_figure()\n",
    "    \n",
    "    figure.savefig('../../../../my-data/expressive-range/' + dirName + \"/basic_plot_numbers/output_gray.png\")\n",
    "    figure.savefig('../../../../my-data/expressive-range/basic_plot_numbers/' + dirName + '_gray.png')"
   ]
  },
  {
   "cell_type": "markdown",
   "metadata": {},
   "source": [
    "Classic heatmap on color with annotation of the amount of rooms per square"
   ]
  },
  {
   "cell_type": "code",
   "execution_count": null,
   "metadata": {},
   "outputs": [],
   "source": [
    "for file in csvFiles:\n",
    "    sns.set()\n",
    "    dirName = file.split(\".\")[0]\n",
    "    #read the csv, remove every row that have a missing value (i.e. NaN) and round the floats\n",
    "    num_data = pd.read_csv('../../../../my-data/expressive-range/' + file, sep=';')\n",
    "    num_data = num_data[pd.notnull(num_data['Leniency'])]\n",
    "    num_data = num_data.round(2)\n",
    "    \n",
    "    num_data_extra = num_data.reset_index().pivot_table(values='Score', index=['Leniency'], columns='Linearity', aggfunc=np.sum)\n",
    "    num_data_extra.sort_index(level=0, ascending=False, inplace=True)\n",
    "    plt.figure(figsize=(30, 30))\n",
    "    #cmap=\"RdBu_r\"\n",
    "    expresive_range_plot = sns.heatmap(num_data_extra, annot=True, yticklabels=8, xticklabels=8,linewidths=0, cbar_kws={'label': 'Rooms'})\n",
    "    expresive_range_plot.set_facecolor('xkcd:black')\n",
    "    \n",
    "    figure = expresive_range_plot.get_figure()   \n",
    "    \n",
    "    figure.savefig('../../../../my-data/expressive-range/' + dirName + \"/basic_plot_numbers/output_color.png\")\n",
    "    figure.savefig('../../../../my-data/expressive-range/basic_plot_numbers/' + dirName + '_color.png')"
   ]
  }
 ],
 "metadata": {
  "kernelspec": {
   "display_name": "Python 3",
   "language": "python",
   "name": "python3"
  },
  "language_info": {
   "codemirror_mode": {
    "name": "ipython",
    "version": 3
   },
   "file_extension": ".py",
   "mimetype": "text/x-python",
   "name": "python",
   "nbconvert_exporter": "python",
   "pygments_lexer": "ipython3",
   "version": "3.8.2"
  }
 },
 "nbformat": 4,
 "nbformat_minor": 4
}
